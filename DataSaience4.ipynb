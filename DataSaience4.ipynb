{
  "nbformat": 4,
  "nbformat_minor": 0,
  "metadata": {
    "colab": {
      "name": "DataSaience4.ipynb",
      "provenance": [],
      "collapsed_sections": [],
      "mount_file_id": "1oZKPL6owpPD7-VnjOAtNckzBRFkWOKiI",
      "authorship_tag": "ABX9TyNyOqiEqt33ggcUfrpJYFHp",
      "include_colab_link": true
    },
    "kernelspec": {
      "name": "python3",
      "display_name": "Python 3"
    },
    "language_info": {
      "name": "python"
    }
  },
  "cells": [
    {
      "cell_type": "markdown",
      "metadata": {
        "id": "view-in-github",
        "colab_type": "text"
      },
      "source": [
        "<a href=\"https://colab.research.google.com/github/mountainway184/Deraining/blob/master/DataSaience4.ipynb\" target=\"_parent\"><img src=\"https://colab.research.google.com/assets/colab-badge.svg\" alt=\"Open In Colab\"/></a>"
      ]
    },
    {
      "cell_type": "markdown",
      "metadata": {
        "id": "RZA-zmdH52Vn"
      },
      "source": [
        "確率と統計の基礎"
      ]
    },
    {
      "cell_type": "code",
      "metadata": {
        "id": "JJcGN8F35wyV"
      },
      "source": [
        "import numpy as np\n",
        "import scipy as sp\n",
        "import pandas as pd\n",
        "from pandas import Series, DataFrame\n",
        "\n",
        "#可視化ライブラリ\n",
        "import matplotlib.pyplot as plt\n",
        "import matplotlib as mpl\n",
        "import seaborn as sns\n",
        "%matplotlib inline\n",
        "\n",
        "%precision 3\n",
        "\n",
        "#ランダムシードの固定\n",
        "np.random.seed(0)"
      ],
      "execution_count": null,
      "outputs": []
    },
    {
      "cell_type": "code",
      "metadata": {
        "colab": {
          "base_uri": "https://localhost:8080/"
        },
        "id": "qt9z4OwZ54MF",
        "outputId": "18881782-6169-4dbf-9e1d-4b90821ddada"
      },
      "source": [
        "dice_data = np.array([1,2,3,4,5,6])\n",
        "print('1つだけランダムに抽出：',np.random.choice(dice_data, 1))"
      ],
      "execution_count": null,
      "outputs": [
        {
          "output_type": "stream",
          "text": [
            "1つだけランダムに抽出： [5]\n"
          ],
          "name": "stdout"
        }
      ]
    },
    {
      "cell_type": "code",
      "metadata": {
        "colab": {
          "base_uri": "https://localhost:8080/"
        },
        "id": "JfBtQaBMH8gK",
        "outputId": "c788125e-d27a-4009-c966-752caa2f95d0"
      },
      "source": [
        "calc_steps = 1000\n",
        "dice_rolls = np.random.choice(dice_data, calc_steps)\n",
        "\n",
        "#それぞれの数字がどれくらいの割合で抽出されたか計算\n",
        "for i in range(1,7):\n",
        "  p = len(dice_rolls[dice_rolls==i]) / calc_steps\n",
        "  print(i, 'がでる確率', p)"
      ],
      "execution_count": null,
      "outputs": [
        {
          "output_type": "stream",
          "text": [
            "1 がでる確率 0.171\n",
            "2 がでる確率 0.158\n",
            "3 がでる確率 0.157\n",
            "4 がでる確率 0.183\n",
            "5 がでる確率 0.16\n",
            "6 がでる確率 0.171\n"
          ],
          "name": "stdout"
        }
      ]
    },
    {
      "cell_type": "code",
      "metadata": {
        "colab": {
          "base_uri": "https://localhost:8080/"
        },
        "id": "ztijnmOSIVQl",
        "outputId": "1eb7690b-6333-4149-cf0c-1975f135376c"
      },
      "source": [
        "coin_data = np.array([0,1])\n",
        "calc_steps_coin = 1000\n",
        "\n",
        "coin_rolls = np.random.choice(coin_data,calc_steps_coin)\n",
        "\n",
        "for i in range(0,2):\n",
        "  p_coin = len(coin_rolls[coin_rolls==i]) / calc_steps_coin\n",
        "  print(i,'がでる確率',p_coin)"
      ],
      "execution_count": null,
      "outputs": [
        {
          "output_type": "stream",
          "text": [
            "0 がでる確率 0.488\n",
            "1 がでる確率 0.512\n"
          ],
          "name": "stdout"
        }
      ]
    },
    {
      "cell_type": "code",
      "metadata": {
        "colab": {
          "base_uri": "https://localhost:8080/",
          "height": 265
        },
        "id": "mqeK3LXtKX4d",
        "outputId": "3d56fa8e-6c2b-4f72-ed23-853c2bfffe34"
      },
      "source": [
        "#一様分布\n",
        "calc_steps = 1000\n",
        "dice_rolls = np.random.choice(dice_data, calc_steps)\n",
        "\n",
        "prob_data = np.array([])\n",
        "for i in range(1,7):\n",
        "  p = len(dice_rolls[dice_rolls==i]) / calc_steps\n",
        "  prob_data = np.append(prob_data, len(dice_rolls[dice_rolls==i]) / calc_steps)\n",
        "\n",
        "plt.bar(dice_data, prob_data)\n",
        "plt.grid(True)"
      ],
      "execution_count": null,
      "outputs": [
        {
          "output_type": "display_data",
          "data": {
            "image/png": "[encoded data removed]",
            "text/plain": [
              "<Figure size 432x288 with 1 Axes>"
            ]
          },
          "metadata": {
            "tags": [],
            "needs_background": "light"
          }
        }
      ]
    },
    {
      "cell_type": "code",
      "metadata": {
        "id": "wz77eEZUFkFD"
      },
      "source": [
        "#ベルヌーイ分布\n",
        "prob_be_data = np.array([])\n",
        "coin_data = np.array([0,0,0,0,0,1,1,1])"
      ],
      "execution_count": null,
      "outputs": []
    }
  ]
}